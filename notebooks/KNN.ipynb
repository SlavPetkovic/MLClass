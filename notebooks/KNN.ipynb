{
 "cells": [
  {
   "cell_type": "code",
   "execution_count": null,
   "metadata": {
    "collapsed": true
   },
   "outputs": [],
   "source": [
    "import sys\n",
    "\n",
    "import numpy as np\n",
    "print('You\\'re running python %s' % sys.version.split(' ')[0])\n",
    "X = np.random.rand(500,100)\n",
    "Y = np.random.rand(160,100)\n",
    "print(X)\n",
    "print(Y)"
   ]
  },
  {
   "cell_type": "code",
   "execution_count": null,
   "outputs": [],
   "source": [
    "#Numpy n-dimensional array\n",
    "X = np.array([[1,2,3],[4,5,6]])\n",
    "# What is the shape?\n",
    "print(X.shape)\n",
    "# How many dimensions?\n",
    "print(X.ndim)\n",
    "# How many elements?\n",
    "print(X.size)"
   ],
   "metadata": {
    "collapsed": false,
    "pycharm": {
     "name": "#%%\n"
    }
   }
  },
  {
   "cell_type": "code",
   "execution_count": null,
   "outputs": [],
   "source": [
    "#Use arrays to represent a vector, which is essentially a 1-D array\n",
    "npvec = np.array([1,2,3])\n",
    "print(npvec)\n",
    "colvec = npvec.reshape((3,1))\n",
    "print(colvec)\n",
    "# create v1 array vector\n",
    "v1 = np.array([3,4,5])\n",
    "print(v1)\n",
    "# Reshape the array to into column vector\n",
    "v2 = v1.reshape((3,1))\n",
    "print(v2)\n",
    "v3 = v1.reshape(1,3)\n",
    "print(v3)\n",
    "# flattening the vector\n",
    "print(v1+v2)\n",
    "v4 = v2.flatten()"
   ],
   "metadata": {
    "collapsed": false,
    "pycharm": {
     "name": "#%%\n"
    }
   }
  },
  {
   "cell_type": "code",
   "execution_count": null,
   "outputs": [],
   "source": [
    "# Creating common Matrices\n",
    "print(np.eye(3))\n",
    "print(np.eye(5))\n",
    "print(np.zeros([2,3]))\n",
    "print(np.zeros([3,6]))\n",
    "print(np.arange(10))\n",
    "print(np.arange(1,10,2))\n",
    "print(np.arange(2,10,2))"
   ],
   "metadata": {
    "collapsed": false,
    "pycharm": {
     "name": "#%%\n"
    }
   }
  },
  {
   "cell_type": "code",
   "execution_count": null,
   "outputs": [],
   "source": [
    "# Matrix Multiplications\n",
    "X = np.array([[1,2], [3,4]])\n",
    "Y = np.array([[5,6],[7,8]])\n",
    "A = np.array([[1,2,3,4], [7,8,9,10]])\n",
    "B = np.array([[4,5,6,7], [1,2,3,4]])\n",
    "\n",
    "#Dot Product\n",
    "print(np.dot(X,Y))\n",
    "# in order to multiply A and B we have to transpose ether A or B\n",
    "print(np.dot(A,np.transpose(B))-Y)"
   ],
   "metadata": {
    "collapsed": false,
    "pycharm": {
     "name": "#%%\n"
    }
   }
  },
  {
   "cell_type": "code",
   "execution_count": null,
   "outputs": [],
   "source": [
    "# Other Matrix Perations\n",
    "\n",
    "# Largest element in X\n",
    "print(np.amax(X))\n",
    "# Largest elements along the first axis\n",
    "print(np.amax(X, axis = 0))\n",
    "# Smallest element in X\n",
    "print(np.amin(X))\n",
    "# Smallest elements along the second axis\n",
    "print(np.amin(X, axis = 1))\n",
    "# Index of the smallest element in X\n",
    "print(np.argmin(X))\n",
    "# Indices of the largest elements along the first axis\n",
    "print(np.argmax(X, axis = 0))\n",
    "# Sum of all elements in X\n",
    "print(np.sum(X))\n",
    "# Sum of elements along the first axis\n",
    "print(np.sum(X, axis = 0))\n",
    "# Sort the matrix (in ascending order) along the last axis (axis=-1)\n",
    "print(np.sort(A))"
   ],
   "metadata": {
    "collapsed": false,
    "pycharm": {
     "name": "#%%\n"
    }
   }
  },
  {
   "cell_type": "code",
   "execution_count": null,
   "outputs": [],
   "source": [
    "#Finding the indexes for the three lowest values for each row.\n",
    "D = np.array([[1, 4, 8, 5],[4, 8, 2, 9],[2, 0, 4, 5]])\n",
    "# Sorting matrix\n",
    "argsort = np.argsort(D, axis=1)\n",
    "print(argsort)\n",
    "\n",
    "argmin = argsort[:, :3]\n",
    "print(argmin)"
   ],
   "metadata": {
    "collapsed": false,
    "pycharm": {
     "name": "#%%\n"
    }
   }
  },
  {
   "cell_type": "code",
   "execution_count": null,
   "outputs": [],
   "source": [
    "# Adding Columns and Rows to Matrices\n",
    "print(np.vstack((A,B)))\n",
    "print(np.hstack((A,B)))"
   ],
   "metadata": {
    "collapsed": false,
    "pycharm": {
     "name": "#%%\n"
    }
   }
  },
  {
   "cell_type": "code",
   "execution_count": null,
   "outputs": [],
   "source": [
    "import numpy as np\n",
    "A = np.array([[1,2,3,4], [7,8,9,10]])\n",
    "B = np.array([[4,5,6,7], [1,2,3,4]])\n",
    "print(A)\n",
    "print(B)\n",
    "\n",
    "amax = np.amax(A, axis = 0)\n",
    "print(amax)\n",
    "Bsum = np.sum(B, axis = 0)\n",
    "print(Bsum)\n",
    "print(np.hstack((amax,Bsum)))"
   ],
   "metadata": {
    "collapsed": false,
    "pycharm": {
     "name": "#%%\n"
    }
   }
  },
  {
   "cell_type": "code",
   "execution_count": null,
   "outputs": [],
   "source": [
    "# Create X matrix\n",
    "X = np.array([[1,2],[3,4]])\n",
    "print(X)\n",
    "#Create Z matrix\n",
    "Z = np.array([[1,4],[2,5],[3,6]])\n",
    "print(Z)"
   ],
   "metadata": {
    "collapsed": false,
    "pycharm": {
     "name": "#%%\n"
    }
   }
  },
  {
   "cell_type": "code",
   "execution_count": null,
   "outputs": [],
   "source": [
    "# I am running the test on the class data we had during our live presentation\n",
    "import numpy as np\n",
    "\n",
    "X = np.array([[1,2],[3,4]])\n",
    "#Create Z matrix\n",
    "Z = np.array([[1,4],[2,5],[3,6]])\n",
    "\n",
    "# Calculate G from X using inner product\n",
    "print(\"-----------------------------------------\")\n",
    "\n",
    "G = np.inner(X,Z)\n",
    "print(\"shape of G at the end ={}\".format(G.shape))\n",
    "print(G)\n",
    "\n",
    "print(\"-----------------------------------------\")\n",
    "\n",
    "# Calculating S\n",
    "X = np.random.rand(700,100) # define random inputs\n",
    "Z = np.random.rand(800,100)\n",
    "def calculate_S(X, n, m):\n",
    "    # calculating inner product and its shape which dimentisons i will use in S.repeat\n",
    "    G = np.inner(X,Z)\n",
    "    gn,dn = G.shape\n",
    "    # using numpy inner product and np diag to get the diagonal values for S\n",
    "    S = np.diag(np.inner(X,X))[:,None]\n",
    "    # Repeating for S values based on G dimentison\n",
    "    S = S.repeat(dn,axis=1)\n",
    "    print(\"shape of S at the end ={}\".format(S.shape))\n",
    "    return S\n",
    "\n",
    "n,d1=X.shape\n",
    "m,d2=X.shape\n",
    "S= calculate_S(X,n,m)\n",
    "\n",
    "print(\"-----------------------------------------\")\n",
    "# Calculating R\n",
    "def calculate_R(Z, n, m):\n",
    "    # calculating inner product and its shape which dimentisons i will use in R.repeat\n",
    "    G = np.inner(X,Z)\n",
    "    gn,dn = G.shape\n",
    "    # using numpy inner product and np diag to get the diagonal values for R\n",
    "    R = np.diag(np.inner(Z,Z))[None,:]\n",
    "    # Repeating for R values based on G dimentison\n",
    "    R = R.repeat(gn,axis=0)\n",
    "    print(\"shape of R at the end ={}\".format(R.shape))\n",
    "    return R\n",
    "\n",
    "n,d1=Z.shape\n",
    "m,d2=Z.shape\n",
    "R = calculate_R(Z, n, m)\n",
    "print(R)\n",
    "\n",
    "print(\"-----------------------------------------\")\n",
    "# calcuate l2distance\n",
    "def l2distance(X,Z=None):\n",
    "    if Z is None:\n",
    "        Z=X;\n",
    "\n",
    "    n,d1=X.shape\n",
    "    m,d2=Z.shape\n",
    "    assert (d1==d2), \"Dimensions of input vectors must match!\"\n",
    "    return S+R-2*G\n",
    "\n",
    "Dsqr = l2distance(X,Z)\n",
    "print(f\"The shape of Dsqr matrix is :\\n{Dsqr}\")\n"
   ],
   "metadata": {
    "collapsed": false,
    "pycharm": {
     "name": "#%%\n"
    }
   }
  }
 ],
 "metadata": {
  "kernelspec": {
   "display_name": "Python 3",
   "language": "python",
   "name": "python3"
  },
  "language_info": {
   "codemirror_mode": {
    "name": "ipython",
    "version": 2
   },
   "file_extension": ".py",
   "mimetype": "text/x-python",
   "name": "python",
   "nbconvert_exporter": "python",
   "pygments_lexer": "ipython2",
   "version": "2.7.6"
  }
 },
 "nbformat": 4,
 "nbformat_minor": 0
}